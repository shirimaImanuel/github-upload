from PIL import Image,
import tensorflow as tf,
from tensorflow import keras
import face_recognition
import pytesseract
import numpy as np,
import cv2 as cv

    cap = cv.VideoCapture(0)
   
while True:
    success, picha = cap.read()
    cv.imshow("Detected", picha)
    cv.imwrite('image.png', picha)
    cv.rectangle(picha,(384,0),(510,128),(0,255,0),3)
    if cv.waitKey(10) & 0xFF == ord('s'):
        break
    
cap.release()
cv.destroyAllWindows()

img = Image.open('ima.png')

text = pytesseract.image_to_string(img)
    
print(text)

   